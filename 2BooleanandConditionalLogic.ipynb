{
 "cells": [
  {
   "cell_type": "code",
   "execution_count": 3,
   "metadata": {},
   "outputs": [
    {
     "name": "stdout",
     "output_type": "stream",
     "text": [
      "Who is the best rapper alive? Carter Wayne\n",
      "Am the greatest rapper alive!\n"
     ]
    }
   ],
   "source": [
    "#condition checking\n",
    "name = input(\"Who is the best rapper alive? \")#name should be \"Carter Wayne\" to be 'True'\n",
    "if name == \"Node JS\":\n",
    "    print(\"I'll get back to you soon.\")\n",
    "elif name == \"Carter Wayne\":\n",
    "    print(\"Am the greatest rapper alive!\")\n",
    "else:\n",
    "    print(\"You just screwed up!!!.\")"
   ]
  },
  {
   "cell_type": "code",
   "execution_count": 4,
   "metadata": {},
   "outputs": [
    {
     "data": {
      "text/plain": [
       "False"
      ]
     },
     "execution_count": 4,
     "metadata": {},
     "output_type": "execute_result"
    }
   ],
   "source": [
    "#condition true or false\n",
    "x = 3\n",
    "x is 3 #true\n",
    "x is 7 #false"
   ]
  },
  {
   "cell_type": "code",
   "execution_count": 5,
   "metadata": {},
   "outputs": [
    {
     "name": "stdout",
     "output_type": "stream",
     "text": [
      "Enter your favorite animal: \n",
      "You did't mention any animal.\n"
     ]
    }
   ],
   "source": [
    "#checking for empty string is true or false\n",
    "animal = input(\"Enter your favorite animal: \")\n",
    "if animal:\n",
    "    print(animal + \" is your favorite animal.\")\n",
    "else:\n",
    "    print(\"You did't mention any animal.\")"
   ]
  },
  {
   "cell_type": "code",
   "execution_count": 6,
   "metadata": {},
   "outputs": [
    {
     "name": "stdout",
     "output_type": "stream",
     "text": [
      "Where do you live? Nairobi\n",
      "You live in Kenya.\n"
     ]
    }
   ],
   "source": [
    "#OR - only one side should be true\n",
    "city = input(\"Where do you live? \")\n",
    "if city == \"Nairobi\" or city == \"Mombasa\":\n",
    "    print(\"You live in Kenya.\")\n",
    "else:\n",
    "    print(\"You live somewhere else.\")"
   ]
  },
  {
   "cell_type": "code",
   "execution_count": 13,
   "metadata": {},
   "outputs": [
    {
     "name": "stdout",
     "output_type": "stream",
     "text": [
      "Your age? 45\n",
      "You will pay $10 and you ain't child or senior\n"
     ]
    }
   ],
   "source": [
    "#NOT/negator\n",
    "\n",
    "#age 2 to 8 will pay $2\n",
    "#age 65 will pay $5\n",
    "#$10 for everyone else\n",
    "age = int(input(\"Your age? \"))\n",
    "if not ((age >= 2 and age <=8) or age >= 65):\n",
    "    print(\"You will pay $10 and you ain't child or senior\")\n",
    "else:\n",
    "    print(\"You are a child or a senior.\")"
   ]
  }
 ],
 "metadata": {
  "kernelspec": {
   "display_name": "Python 3",
   "language": "python",
   "name": "python3"
  },
  "language_info": {
   "codemirror_mode": {
    "name": "ipython",
    "version": 3
   },
   "file_extension": ".py",
   "mimetype": "text/x-python",
   "name": "python",
   "nbconvert_exporter": "python",
   "pygments_lexer": "ipython3",
   "version": "3.6.5"
  }
 },
 "nbformat": 4,
 "nbformat_minor": 2
}
