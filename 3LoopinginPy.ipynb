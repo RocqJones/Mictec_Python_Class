{
 "cells": [
  {
   "cell_type": "code",
   "execution_count": 1,
   "metadata": {},
   "outputs": [
    {
     "name": "stdout",
     "output_type": "stream",
     "text": [
      "1\n",
      "2\n",
      "3\n",
      "4\n",
      "5\n",
      "6\n",
      "7\n",
      "8\n",
      "9\n"
     ]
    }
   ],
   "source": [
    "#for loop\n",
    "for X in range(1,10):\n",
    "    print(X)"
   ]
  },
  {
   "cell_type": "code",
   "execution_count": 1,
   "metadata": {},
   "outputs": [
    {
     "name": "stdout",
     "output_type": "stream",
     "text": [
      "1\n",
      "1\n",
      "1\n",
      "2\n",
      "4\n",
      "4\n",
      "3\n",
      "9\n",
      "27\n",
      "4\n",
      "16\n",
      "256\n",
      "5\n",
      "25\n",
      "3125\n",
      "6\n",
      "36\n",
      "46656\n",
      "7\n",
      "49\n",
      "823543\n",
      "8\n",
      "64\n",
      "16777216\n",
      "9\n",
      "81\n",
      "387420489\n"
     ]
    }
   ],
   "source": [
    "for Y in range(1,10):\n",
    "    print(Y)\n",
    "    print(Y*Y) # we get the number and it's square\n",
    "    print(Y**Y)"
   ]
  },
  {
   "cell_type": "code",
   "execution_count": 5,
   "metadata": {},
   "outputs": [
    {
     "name": "stdout",
     "output_type": "stream",
     "text": [
      "c\n",
      "o\n",
      "f\n",
      "f\n",
      "e\n",
      "e\n"
     ]
    }
   ],
   "source": [
    "#for string\n",
    "for char in \"coffee\": #char can be anything even x or y in the place\n",
    "    print(char)"
   ]
  },
  {
   "cell_type": "code",
   "execution_count": 6,
   "metadata": {},
   "outputs": [
    {
     "name": "stdout",
     "output_type": "stream",
     "text": [
      "cccccccccc\n",
      "oooooooooo\n",
      "ffffffffff\n",
      "ffffffffff\n",
      "eeeeeeeeee\n",
      "eeeeeeeeee\n"
     ]
    }
   ],
   "source": [
    "for letter in \"coffee\":\n",
    "    print(letter*10)"
   ]
  },
  {
   "cell_type": "code",
   "execution_count": 7,
   "metadata": {},
   "outputs": [
    {
     "data": {
      "text/plain": [
       "[0, 1, 2, 3, 4, 5, 6, 7, 8, 9]"
      ]
     },
     "execution_count": 7,
     "metadata": {},
     "output_type": "execute_result"
    }
   ],
   "source": [
    "#Range\n",
    "r = range(10)\n",
    "list(r)"
   ]
  },
  {
   "cell_type": "code",
   "execution_count": 8,
   "metadata": {},
   "outputs": [
    {
     "data": {
      "text/plain": [
       "[1, 3, 5, 7, 9]"
      ]
     },
     "execution_count": 8,
     "metadata": {},
     "output_type": "execute_result"
    }
   ],
   "source": [
    "nums = range(1,10,2)\n",
    "list(nums)"
   ]
  },
  {
   "cell_type": "code",
   "execution_count": 9,
   "metadata": {},
   "outputs": [
    {
     "data": {
      "text/plain": [
       "[7, 6, 5, 4, 3, 2, 1]"
      ]
     },
     "execution_count": 9,
     "metadata": {},
     "output_type": "execute_result"
    }
   ],
   "source": [
    "n = range(7,0,-1)\n",
    "list(n)"
   ]
  },
  {
   "cell_type": "code",
   "execution_count": 10,
   "metadata": {},
   "outputs": [
    {
     "name": "stdout",
     "output_type": "stream",
     "text": [
      "10\n",
      "12\n",
      "14\n",
      "16\n",
      "18\n"
     ]
    }
   ],
   "source": [
    "#a different way of doing it.\n",
    "for nums in range(10,20,2):\n",
    "    print(nums)"
   ]
  },
  {
   "cell_type": "code",
   "execution_count": 1,
   "metadata": {},
   "outputs": [
    {
     "name": "stdout",
     "output_type": "stream",
     "text": [
      "How many times do I have to tell you to clean up your room?  4\n",
      "time1: CLEAN UP YOUR ROOM!\n",
      "time2: CLEAN UP YOUR ROOM!\n",
      "time3: CLEAN UP YOUR ROOM!\n",
      "time4: CLEAN UP YOUR ROOM!\n"
     ]
    }
   ],
   "source": [
    "#repeater exercise\n",
    "times = int(input(\"How many times do I have to tell you to clean up your room?  \"))\n",
    "\n",
    "for time in range(times):\n",
    "    #print(\"CLEAN UP YOUR ROOM!\")\n",
    "    print(f\"time{time+1}: CLEAN UP YOUR ROOM!\") #+1 is for the loop to start with 1 instead of 0"
   ]
  },
  {
   "cell_type": "code",
   "execution_count": 1,
   "metadata": {},
   "outputs": [
    {
     "name": "stdout",
     "output_type": "stream",
     "text": [
      "1 is odd.\n",
      "2 is even.\n",
      "3 is odd.\n",
      "4 is unlucky.\n",
      "5 is odd.\n",
      "6 is even.\n",
      "7 is odd.\n",
      "8 is even.\n",
      "9 is odd.\n",
      "10 is even.\n",
      "11 is odd.\n",
      "12 is even.\n",
      "13 is unlucky.\n",
      "14 is even.\n",
      "15 is odd.\n",
      "16 is even.\n",
      "17 is odd.\n",
      "18 is even.\n",
      "19 is odd.\n",
      "20 is even.\n"
     ]
    }
   ],
   "source": [
    "#unlucky, even and odd numbers assignment\n",
    "#METHOD ONE\n",
    "#for nums in range(1,21):\n",
    "    #to find a even num in py we use %>modulo if num % 2 = 0 it's even else odd.\n",
    "#    if nums == 4 or nums == 13:\n",
    "#        print(f\"{nums} is unlucky!\")\n",
    "#    elif nums % 2==0:\n",
    "#        print(f\"{nums} is even.\")\n",
    "#    else:\n",
    "#        print(f\"{nums} is odd.\")\n",
    "    \n",
    "    #different way to do the above code is as follows\n",
    "#METHOD TWO\n",
    "for nums in range(1,21):\n",
    "    #to find a even num in py we use %>modulo if num % 2 = 0 it's even else odd.\n",
    "    if nums == 4 or nums == 13:\n",
    "        state = \"unlucky\"\n",
    "    elif nums % 2==0:\n",
    "        state = \"even\"\n",
    "    else:\n",
    "        state = \"odd\"\n",
    "    print(f\"{nums} is {state}.\")"
   ]
  },
  {
   "cell_type": "code",
   "execution_count": 2,
   "metadata": {},
   "outputs": [
    {
     "name": "stdout",
     "output_type": "stream",
     "text": [
      "What's your password?bun\n",
      "WRONG!\n",
      "What's your password?bunny\n",
      "CORRECT!\n"
     ]
    }
   ],
   "source": [
    "#WHILE LOOP\n",
    "msg = input(\"What's your password?\")\n",
    "while msg != \"bunny\":\n",
    "    print(\"WRONG!\")\n",
    "    msg = input(\"What's your password?\")\n",
    "print(\"CORRECT!\")"
   ]
  },
  {
   "cell_type": "code",
   "execution_count": 9,
   "metadata": {},
   "outputs": [
    {
     "name": "stdout",
     "output_type": "stream",
     "text": [
      "1\n",
      "2\n",
      "3\n",
      "4\n",
      "5\n",
      "6\n",
      "7\n",
      "8\n",
      "9\n",
      "10\n"
     ]
    }
   ],
   "source": [
    "num = 1\n",
    "while num <=10:\n",
    "    print(num)\n",
    "    num +=1 #for odd use +=2"
   ]
  },
  {
   "cell_type": "code",
   "execution_count": 1,
   "metadata": {},
   "outputs": [
    {
     "name": "stdout",
     "output_type": "stream",
     "text": [
      "Type 'exit' to exit: trew\n",
      "Type 'exit' to exit: da\n",
      "Type 'exit' to exit: exit\n"
     ]
    }
   ],
   "source": [
    "#BREAK KEYWORD IN LOOP\n",
    "# while loop exit with 'break' keyword\n",
    "while True:\n",
    "    command = input(\"Type 'exit' to exit: \")\n",
    "    if(command == \"exit\"):\n",
    "        break"
   ]
  },
  {
   "cell_type": "code",
   "execution_count": 4,
   "metadata": {},
   "outputs": [
    {
     "name": "stdout",
     "output_type": "stream",
     "text": [
      "1\n",
      "2\n",
      "3\n"
     ]
    }
   ],
   "source": [
    "# break with for loop\n",
    "for x in range(1,20):\n",
    "    print(x)\n",
    "    if x == 3:\n",
    "        break"
   ]
  },
  {
   "cell_type": "code",
   "execution_count": 6,
   "metadata": {},
   "outputs": [
    {
     "name": "stdout",
     "output_type": "stream",
     "text": [
      "How many times do I have to tell you to clean up your room?  50\n",
      "time1: CLEAN UP YOUR ROOM!\n",
      "time2: CLEAN UP YOUR ROOM!\n",
      "time3: CLEAN UP YOUR ROOM!\n",
      "time4: CLEAN UP YOUR ROOM!\n",
      "Do you even listen anymore?\n"
     ]
    }
   ],
   "source": [
    "times = int(input(\"How many times do I have to tell you to clean up your room?  \"))\n",
    "\n",
    "for time in range(times):\n",
    "    print(f\"time{time+1}: CLEAN UP YOUR ROOM!\")\n",
    "    if time >= 3:\n",
    "        print(\"Do you even listen anymore?\")\n",
    "        break"
   ]
  },
  {
   "cell_type": "code",
   "execution_count": 2,
   "metadata": {},
   "outputs": [
    {
     "name": "stdout",
     "output_type": "stream",
     "text": [
      "c\n",
      "o\n",
      "f\n",
      "f\n",
      "e\n",
      "e\n"
     ]
    }
   ],
   "source": [
    "for char in (\"coffee\"):\n",
    "    print(char)"
   ]
  },
  {
   "cell_type": "code",
   "execution_count": null,
   "metadata": {},
   "outputs": [],
   "source": []
  }
 ],
 "metadata": {
  "kernelspec": {
   "display_name": "Python 3",
   "language": "python",
   "name": "python3"
  },
  "language_info": {
   "codemirror_mode": {
    "name": "ipython",
    "version": 3
   },
   "file_extension": ".py",
   "mimetype": "text/x-python",
   "name": "python",
   "nbconvert_exporter": "python",
   "pygments_lexer": "ipython3",
   "version": "3.6.5"
  }
 },
 "nbformat": 4,
 "nbformat_minor": 2
}
